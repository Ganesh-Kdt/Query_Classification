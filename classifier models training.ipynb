{
 "cells": [
  {
   "cell_type": "code",
   "execution_count": 1,
   "id": "21eeb57c",
   "metadata": {},
   "outputs": [],
   "source": [
    "import pandas as pd\n",
    "import numpy as np\n",
    "import re\n",
    "import sys\n",
    "sys.path.append(r'C:\\Users\\Pramod.gunaware.EXT\\OneDrive - Shri Vile Parle Kelavani Mandal\\Documents\\helpers')\n",
    "from mysql_helper import _mysql\n",
    "import warnings\n",
    "warnings.filterwarnings('ignore')\n",
    "import pickle"
   ]
  },
  {
   "cell_type": "code",
   "execution_count": 2,
   "id": "d87b134b",
   "metadata": {},
   "outputs": [],
   "source": [
    "local=_mysql('localhost',3306,'root','admin','acads')"
   ]
  },
  {
   "cell_type": "code",
   "execution_count": null,
   "id": "c632191d",
   "metadata": {},
   "outputs": [],
   "source": [
    "# For all columns\n",
    "# local.fetch_column('session_query_answer')\n",
    "# local.fetch_query('''SELECT * FROM acads.session_query_answer where createdDate>= \"2018-01-01 00:00:00\" and createdDate<\"2023-01-01 00:00:00\"; ''')"
   ]
  },
  {
   "cell_type": "code",
   "execution_count": null,
   "id": "58ee97ab",
   "metadata": {},
   "outputs": [],
   "source": [
    "# for only yearly data"
   ]
  },
  {
   "cell_type": "code",
   "execution_count": 3,
   "id": "8c08d0b0",
   "metadata": {},
   "outputs": [],
   "source": [
    "local.show_column = ['query','queryType','answer']\n",
    "local.fetch_query('''SELECT query,queryType,answer FROM acads.session_query_answer where createdDate>= \"2018-01-01 00:00:00\" and createdDate<\"2023-01-01 00:00:00\";''')"
   ]
  },
  {
   "cell_type": "code",
   "execution_count": 4,
   "id": "3fe769ff",
   "metadata": {},
   "outputs": [],
   "source": [
    "df = local.show_table"
   ]
  },
  {
   "cell_type": "code",
   "execution_count": 6,
   "id": "fc2ee6dd",
   "metadata": {},
   "outputs": [],
   "source": [
    "df=df[df['query'].isnull()==False].reset_index(drop=True)\n",
    "# df=df[df['queryType'].isnull()==False].reset_index(drop=True)\n",
    "# df=df[df['answer'].isnull()==False].reset_index(drop=True)"
   ]
  },
  {
   "cell_type": "code",
   "execution_count": 7,
   "id": "41891349",
   "metadata": {},
   "outputs": [],
   "source": [
    "# removing querys which hav 2 or less words\n",
    "to_remove = []\n",
    "for index,row in df.iterrows():\n",
    "    if len(row['query'].split(' ')) <=2:\n",
    "        to_remove.append(index)\n",
    "df.drop(to_remove,inplace=True)"
   ]
  },
  {
   "cell_type": "code",
   "execution_count": 9,
   "id": "ac84603d",
   "metadata": {},
   "outputs": [],
   "source": [
    "df['query'] = df['query'].dropna().apply(str.lower)\n",
    "df['queryType'] = df['queryType'].dropna().apply(str.lower)\n",
    "df['answer'] = df['answer'].dropna().apply(str.lower)\n",
    "df['queryType'] = df['queryType'].replace(['course query', 'academic',''], 'non-technical')"
   ]
  },
  {
   "cell_type": "code",
   "execution_count": 10,
   "id": "0819bacf",
   "metadata": {},
   "outputs": [
    {
     "data": {
      "text/plain": [
       "non-technical    59346\n",
       "technical         3937\n",
       "Name: queryType, dtype: int64"
      ]
     },
     "execution_count": 10,
     "metadata": {},
     "output_type": "execute_result"
    }
   ],
   "source": [
    "df['queryType'].value_counts()"
   ]
  },
  {
   "cell_type": "code",
   "execution_count": 11,
   "id": "af76e987",
   "metadata": {},
   "outputs": [],
   "source": [
    "# changing query type of the query\n",
    "\n",
    "pattern = re.compile(r'''\\bKindly restrict\\b|\\bngasce@nimms.edu\\b|\\bNGASCE@nmims.edu\\b|\\bstudent support team\\b|\\bNGASCE Team\\b|\\bco- ordinator\\b|\\bcoordinator\\b|\\bportal\\b|\\bexamination department\\b|\\bpost academic related query\\b|\\bhelp desk\\b|\\b1800-1025-136\\b<p><b>Kindly restrict  your queries to the session under which you are posting the query. </b></p><p><b>Queries other  than those related to the particular session and/or subject will not be  answered in this section.</b></p><p><b>For all  academic administrative and other queries related to support please approach </b><a><b>NGASCE@nmims.edu</b></a></p>\\b|\\b<p>Kindly restrict your  queries to the session under which you are posting the query. Queries other  than those related to the particular session and/or subject will not be  answered in this section. For all academic administrative and other queries  related to support please approach NGASCE@nmims.edu</p><p>Regards,</p><p>NGASCE</p>\\b|\\bKindly restrict your queries to the session under which you are posting the query. Queries other than those related to the particular session and/or subject will not be answered in this section. For all academic administrative and other queries related to support please approach NGASCE@nmims.edu\n",
    "Regards,\n",
    "NGASCE\\b|\\bKindly restrict your queries to the session under which you are posting the query. Queries other than those related to the particular session and/or subject will not be answered in this section. For all academic administrative and other queries related to support please approach NGASCE@nmims.edu\\b|\\b<b>please approach </b><a><b>NGASCE@nmims.edu</b></a>\\b|\\bplease  approach NGASCE@nmims.edu\\b|\\b<p><b>&ldquo;Kindly restrict your queries to the session under  which you are &nbsp;&nbsp;&nbsp;posting the query.</b></p><p><b>&nbsp;</b></p><p><b>Queries other than those related to the particular  session and/or subject will not be answered in this section.</b></p><p><b> </b></p><p><b>For all academic administrative and other queries  related to support please do follow the below given steps;</b></p><p><b> </b></p><p><b>Click on the tab, Student Support &gt; </b><b>Connect  With Us &gt; Raise a Ticket {My Tickets} &gt; Raise a Ticket &gt; fill in your  details &gt; Submit&rdquo;</b></p>\\b|\\bFor all academic administrative and other queries related to support please approach NGASCE@nmims.edu\\b|\\b<p><b>&ldquo;Kindly  restrict your queries to the session under which you are &nbsp;&nbsp;&nbsp;posting the query. </b></p><p><b>Queries other  than those related to the particular session and/or subject will not be  answered in this section.</b></p><p><b>For all  academic administrative and other queries related to support please approach </b><a><b>NGASCE@nmims.edu</b></a><b> </b><b>&rdquo;</b></p>\\b|\\bplease write to ngasce@nmims.edu\\b|\\b<p>Kindly restrict your queries to the session under which you are  posting the query. Queries other than those related to the particular session  and/or subject will not be answered in this section. For all academic  administrative and other queries related to support please approach NGASCE@nmims.edu</p><p>Regards,</p><p>NGASCE</p>\\b|\\bKindly restrict your queries to the session under which you are posting the query. Queries other than those related to the particular session and/or subject will not be answered in this section. For all academic administrative and other queries related to support please approach NGASCE@nmims.edu\n",
    "\n",
    "Regards,\n",
    "NGASCE\\b|\\bFor  all academic administrative and other queries related to support please  approach NGASCE@nmims.edu\\b|\\bKindly restrict your queries to the session under which you are posting the query. Queries other than those related to the particular session and/or subject will not be answered in this section. For all academic administrative and other queries related to support please approach ngasce@nmims.edu\n",
    "\n",
    "Regards,\\b|\\b<p><b>&ldquo;Kindly  restrict your queries to the session under which you are &nbsp;&nbsp;&nbsp;posting the query.</b></p><p><b>&nbsp;</b></p><p><b>Queries other  than those related to the particular session and/or subject will not be  answered in this section.</b></p><p><b> </b></p><p><b>For all  academic administrative and other queries related to support please do follow  the below given steps;</b></p><p><b> </b></p><p><b>Click on the tab, Student Support &gt; </b><b>Connect  With Us &gt; Raise a Ticket {My Tickets} &gt; Raise a Ticket &gt; fill in your  details &gt; Submit</b><b>&rdquo;</b></p>\\b|\\b<p><b>For all  academic administrative and other queries related to support please approach </b><a><b>NGASCE@nmims.edu</b></a></p>\\b|\\b<p>Kindly restrict your queries to  the session under which you are posting the query. Queries other than those  related to the particular session and/or subject will not be answered in this  section. For all academic administrative and other queries related to support  please approach <a><b>NGASCE@nmims.edu</b></a></p><p>Regards,</p><p>NGASCE</p>\\b|\\b<a href=\"https://adhocfilesngasce.s3.ap-south-1.amazonaws.com/academics/1655290709OMeYb.pdf\">https://adhocfilesngasce.s3.ap-south-1.amazonaws.com/academics/1655290709OMeYb.pdf</a>\\b|\\b<!--StartFragment--><p style=\"box-sizing: border-box; margin: 0px 0px 10px; padding: 0px; color: rgb(51, 51, 51); font-family: &amp;quot;Trebuchet MS&amp;quot;, Tahoma, Verdana, Arial, sans-serif; font-size: 15.4px; font-style: normal; font-variant-ligatures: normal; font-variant-caps: normal; font-weight: 400; letter-spacing: normal; orphans: 2; text-align: start; text-indent: 0px; text-transform: none; white-space: normal; widows: 2; word-spacing: 0px; -webkit-text-stroke-width: 0px; text-decoration-thickness: initial; text-decoration-style: initial; text-decoration-color: initial;\">The Individual Task is uploaded in the&nbsp;<b>Learning Resources Section</b>. All the details are mentioned in the document itself.</p><p style=\"box-sizing: border-box; margin: 0px 0px 10px; padding: 0px; color: rgb(51, 51, 51); font-family: &amp;quot;Trebuchet MS&amp;quot;, Tahoma, Verdana, Arial, sans-serif; font-size: 15.4px; font-style: normal; font-variant-ligatures: normal; font-variant-caps: normal; font-weight: 400; letter-spacing: normal; orphans: 2; text-align: start; text-indent: 0px; text-transform: none; white-space: normal; widows: 2; word-spacing: 0px; -webkit-text-stroke-width: 0px; text-decoration-thickness: initial; text-decoration-style: initial; text-decoration-color: initial;\">You have to&nbsp;<b>Upload your work as a PDF file in the Upload Assignment Section</b>. If you don&rsquo;t see this on your portal</p><!--EndFragment-->\\b|\\b<p>Kindly restrict your  queries to the session under which you are posting the query. Queries other  than those related to the particular session and/or subject will not be  answered in this section. For all academic administrative and other queries  related to support please approach NGASCE@nmims.edu</p>\\b|\\b. For all academic administrative and other queries related to support please approach NGASCE@nmims.edu\n",
    "Regards,\n",
    "NGASCE\\b|\\bKindly mail your admission, exam-related queries on ngasce@nimms.edu\\b|\\bPlease approach NGASCE@nmims.edu\\b|\\b<!--StartFragment-->Plz refer&nbsp;chapter 5 section 5.3.1 and 5.3.2<br style=\"box-sizing: border-box; margin: 0px; padding: 0px; color: rgb(51, 51, 51); font-family: &amp;quot;Trebuchet MS&amp;quot;, Tahoma, Verdana, Arial, sans-serif; font-size: 15.4px; font-style: normal; font-variant-ligatures: normal; font-variant-caps: normal; font-weight: 400; letter-spacing: normal; orphans: 2; text-align: start; text-indent: 0px; text-transform: none; white-space: normal; widows: 2; word-spacing: 0px; -webkit-text-stroke-width: 0px; text-decoration-thickness: initial; text-decoration-style: initial; text-decoration-color: initial;\"><br style=\"box-sizing: border-box; margin: 0px; padding: 0px; color: rgb(51, 51, 51); font-family: &amp;quot;Trebuchet MS&amp;quot;, Tahoma, Verdana, Arial, sans-serif; font-size: 15.4px; font-style: normal; font-variant-ligatures: normal; font-variant-caps: normal; font-weight: 400; letter-spacing: normal; orphans: 2; text-align: start; text-indent: 0px; text-transform: none; white-space: normal; widows: 2; word-spacing: 0px; -webkit-text-stroke-width: 0px; text-decoration-thickness: initial; text-decoration-style: initial; text-decoration-color: initial;\">3 LAWS:&nbsp;<br style=\"box-sizing: border-box; margin: 0px; padding: 0px; color: rgb(51, 51, 51); font-family: &amp;quot;Trebuchet MS&amp;quot;, Tahoma, Verdana, Arial, sans-serif; font-size: 15.4px; font-style: normal; font-variant-ligatures: normal; font-variant-caps: normal; font-weight: 400; letter-spacing: normal; orphans: 2; text-align: start; text-indent: 0px; text-transform: none; white-space: normal; widows: 2; word-spacing: 0px; -webkit-text-stroke-width: 0px; text-decoration-thickness: initial; text-decoration-style: initial; text-decoration-color: initial;\">Moore&apos;s law,&nbsp; law of mass digital storage , Metcalfe&apos;s law.<br style=\"box-sizing: border-box; margin: 0px; padding: 0px; color: rgb(51, 51, 51); font-family: &amp;quot;Trebuchet MS&amp;quot;, Tahoma, Verdana, Arial, sans-serif; font-size: 15.4px; font-style: normal; font-variant-ligatures: normal; font-variant-caps: normal; font-weight: 400; letter-spacing: normal; orphans: 2; text-align: start; text-indent: 0px; text-transform: none; white-space: normal; widows: 2; word-spacing: 0px; -webkit-text-stroke-width: 0px; text-decoration-thickness: initial; text-decoration-style: initial; text-decoration-color: initial;\"><br style=\"box-sizing: border-box; margin: 0px; padding: 0px; color: rgb(51, 51, 51); font-family: &amp;quot;Trebuchet MS&amp;quot;, Tahoma, Verdana, Arial, sans-serif; font-size: 15.4px; font-style: normal; font-variant-ligatures: normal; font-variant-caps: normal; font-weight: 400; letter-spacing: normal; orphans: 2; text-align: start; text-indent: 0px; text-transform: none; white-space: normal; widows: 2; word-spacing: 0px; -webkit-text-stroke-width: 0px; text-decoration-thickness: initial; text-decoration-style: initial; text-decoration-color: initial;\">Plz elaborate on these.<br style=\"box-sizing: border-box; margin: 0px; padding: 0px; color: rgb(51, 51, 51); font-family: &amp;quot;Trebuchet MS&amp;quot;, Tahoma, Verdana, Arial, sans-serif; font-size: 15.4px; font-style: normal; font-variant-ligatures: normal; font-variant-caps: normal; font-weight: 400; letter-spacing: normal; orphans: 2; text-align: start; text-indent: 0px; text-transform: none; white-space: normal; widows: 2; word-spacing: 0px; -webkit-text-stroke-width: 0px; text-decoration-thickness: initial; text-decoration-style: initial; text-decoration-color: initial;\">Regards<br style=\"box-sizing: border-box; margin: 0px; padding: 0px; color: rgb(51, 51, 51); font-family: &amp;quot;Trebuchet MS&amp;quot;, Tahoma, Verdana, Arial, sans-serif; font-size: 15.4px; font-style: normal; font-variant-ligatures: normal; font-variant-caps: normal; font-weight: 400; letter-spacing: normal; orphans: 2; text-align: start; text-indent: 0px; text-transform: none; white-space: normal; widows: 2; word-spacing: 0px; -webkit-text-stroke-width: 0px; text-decoration-thickness: initial; text-decoration-style: initial; text-decoration-color: initial;\">Jhalak M<!--EndFragment-->\\b|\\b<p>The Individual Task is already uploaded on the  student&rsquo;s portal in the Upload Assignments Section as a PDF File.</p><p>If you don&rsquo;t see this on your portal, please connect  to the Admin Desk at NMIMS.</p>\\b|\\bPlease email your query to NGASCE@nmims.edu\\b|\\b<!--StartFragment-->Kindly raise a ticket so that you can get the title approval for the subject expert. Also, please go through the project session recordings.<!--EndFragment-->\\b|\\bDear Student,\n",
    "Please use this forum for session related queries for other concerns please get in touch with ngasce@nmims.edu\\b|\\bKindly forward your query to ngasce@nmims.edu\\b|\\bPlease write to NGASCE@nmims.edu.\\b|\\b<p>Kindly restrict your queries to the session under which you are &nbsp;&nbsp;&nbsp;posting the query.</p><p>&nbsp;</p><p>Queries other than those related to the particular session and/or subject  will not be answered in this section.</p><p> </p><p>For all academic administrative and other queries related to support please  do follow the below given steps;</p><p> </p><p>Click on the tab, Student Support &gt; Connect With Us &gt; Raise a Ticket {My Tickets} &gt;  Raise a Ticket &gt; fill in your details &gt; Submit.</p><p> </p><p> </p><p>Regards,</p><p>NGASCE  Academics</p>\\b|\\bPLease contact course coordinator\\b|\\b<!--StartFragment--><p style=\"box-sizing: border-box; margin: 0px 0px 10px; padding: 0px; color: rgb(51, 51, 51); font-family: &amp;quot;Trebuchet MS&amp;quot;, Tahoma, Verdana, Arial, sans-serif; font-size: 15.4px; font-style: normal; font-variant-ligatures: normal; font-variant-caps: normal; font-weight: 400; letter-spacing: normal; orphans: 2; text-align: start; text-indent: 0px; text-transform: none; white-space: normal; widows: 2; word-spacing: 0px; -webkit-text-stroke-width: 0px; text-decoration-thickness: initial; text-decoration-style: initial; text-decoration-color: initial;\"><b>&ldquo;Kindly restrict your queries to the session under which you are &nbsp;&nbsp;&nbsp;posting the query.</b></p><p style=\"box-sizing: border-box; margin: 0px 0px 10px; padding: 0px; color: rgb(51, 51, 51); font-family: &amp;quot;Trebuchet MS&amp;quot;, Tahoma, Verdana, Arial, sans-serif; font-size: 15.4px; font-style: normal; font-variant-ligatures: normal; font-variant-caps: normal; font-weight: 400; letter-spacing: normal; orphans: 2; text-align: start; text-indent: 0px; text-transform: none; white-space: normal; widows: 2; word-spacing: 0px; -webkit-text-stroke-width: 0px; text-decoration-thickness: initial; text-decoration-style: initial; text-decoration-color: initial;\"><b>&nbsp;</b></p><p style=\"box-sizing: border-box; margin: 0px 0px 10px; padding: 0px; color: rgb(51, 51, 51); font-family: &amp;quot;Trebuchet MS&amp;quot;, Tahoma, Verdana, Arial, sans-serif; font-size: 15.4px; font-style: normal; font-variant-ligatures: normal; font-variant-caps: normal; font-weight: 400; letter-spacing: normal; orphans: 2; text-align: start; text-indent: 0px; text-transform: none; white-space: normal; widows: 2; word-spacing: 0px; -webkit-text-stroke-width: 0px; text-decoration-thickness: initial; text-decoration-style: initial; text-decoration-color: initial;\"><b>Queries other than those related to the particular session and/or subject will not be answered in this section.</b></p><p style=\"box-sizing: border-box; margin: 0px 0px 10px; padding: 0px; color: rgb(51, 51, 51); font-family: &amp;quot;Trebuchet MS&amp;quot;, Tahoma, Verdana, Arial, sans-serif; font-size: 15.4px; font-style: normal; font-variant-ligatures: normal; font-variant-caps: normal; font-weight: 400; letter-spacing: normal; orphans: 2; text-align: start; text-indent: 0px; text-transform: none; white-space: normal; widows: 2; word-spacing: 0px; -webkit-text-stroke-width: 0px; text-decoration-thickness: initial; text-decoration-style: initial; text-decoration-color: initial;\"><b>For all academic administrative and other queries related to support please do follow the below given steps;</b></p><p style=\"box-sizing: border-box; margin: 0px 0px 10px; padding: 0px; color: rgb(51, 51, 51); font-family: &amp;quot;Trebuchet MS&amp;quot;, Tahoma, Verdana, Arial, sans-serif; font-size: 15.4px; font-style: normal; font-variant-ligatures: normal; font-variant-caps: normal; font-weight: 400; letter-spacing: normal; orphans: 2; text-align: start; text-indent: 0px; text-transform: none; white-space: normal; widows: 2; word-spacing: 0px; -webkit-text-stroke-width: 0px; text-decoration-thickness: initial; text-decoration-style: initial; text-decoration-color: initial;\"><b>Click on the tab, Student Support &gt;&nbsp;</b><b>Connect With Us &gt; Raise a Ticket {My Tickets} &gt; Raise a Ticket &gt; fill in your details &gt; Submit&rdquo;</b></p><!--EndFragment-->\\b|\\b<p><b>&ldquo;Kindly  restrict your queries to the session under which you are &nbsp;&nbsp;&nbsp;posting the query.</b></p><p><b>&nbsp;</b></p><p><b>Queries other  than those related to the particular session and/or subject will not be  answered in this section.</b></p><p><b> </b></p><p><b>For all  academic administrative and other queries related to support please do follow  the below given steps;</b></p><p><b> </b></p><p><b>Click on the tab, Student Support &gt; </b><b>Connect  With Us &gt; Raise a Ticket {My Tickets} &gt; Raise a Ticket &gt; fill in your  details &gt; Submit</b><b>&nbsp; </b></p>\\b|\\bThis portal is for subject related query\\b|\\b<p><b>&ldquo;Kindly restrict your queries to the session under  which you are &nbsp;&nbsp;&nbsp;posting the query.</b></p><p><b>&nbsp;</b></p><p><b>Queries other than those related to the particular  session and/or subject will not be answered in this section.</b></p><p><b> </b></p><p><b>For all academic administrative and other queries  related to support please do follow the below given steps;</b></p><p><b> </b></p><b>Click on the tab, Student Support &gt; </b><b>Connect With Us &gt; Raise a Ticket {My Tickets} &gt; Raise a Ticket  &gt; fill in your details &gt; Submit&rdquo;</b>\\b|\\b<p><b>please approach  </b><a><b>NGASCE@nmims.edu</b></a></p>\\b|\\bLog in with Student Id->>  My Courses->>   Click on the respective Subject ->>  Click on Resources.\\b|\\b<p>Kindly restrict your queries to the session under which you are posting  the query. Queries other than those related to the particular session and/or  subject will not be answered in this section. For all academic administrative  and other queries related to support please approach NGASCE@nmims.edu</p><p>Regards,</p><p>NGASCE</p>\\b|\\bplease contact your course coordinator\\b|\\b<p>Kindly restrict your queries to the session under which you are  posting the query. Queries other than those related to the particular session  and/or subject will not be answered in this section. For all academic  administrative and other queries related to support please approach NGASCE@nmims.edu</p><p>Regards,</p><p>NGASCE</p><p> </p>\\b|\\bplease connect student support team\\b|\\bPlease connect with NGASCE Team\\b|\\b&ldquo;Kindly restrict your queries to the session under which you are<br>posting the query.<br>Queries other than those related to the particular session and/or<br>subject will not be answered in this section.<br>For all academic administrative and other queries related to<br>support please do follow the below given steps;<br>Click on the tab, Student Support &gt; Connect With Us &gt; Raise<br>a Ticket {My Tickets} &gt; Raise a Ticket &gt; fill in your details<br>&gt; Submit&rdquo;\\b|\\bKindly restrict your queries to the session under which you are posting the query. \n",
    "Queries other than those related to the particular session and/or subject will not be answered in this section.\n",
    "For all academic administrative and other queries related to support please approach NGASCE@nmims.edu\\b|\\bReply :\n",
    "\n",
    "Kindly restrict your queries to the session under which you are posting the query. Queries other than those related to the particular session and/or subject will not be answered in this section. For all academic administrative and other queries related to support please approach NGASCE@nmims.edu\\b|\\b<p><b>&ldquo;Kindly restrict your queries to the session under  which you are &nbsp;&nbsp;&nbsp;posting the query.</b></p><p><b>&nbsp;</b></p><p><b>Queries other than those related to the particular  session and/or subject will not be answered in this section.</b></p><p><b> </b></p><p><b>For all academic administrative and other queries  related to support please do follow the below given steps;</b></p><p><b> </b></p><p><b>Click on the tab, Student Support &gt; </b><b>Connect  With Us &gt; Raise a Ticket {My Tickets} &gt; Raise a Ticket &gt; fill in your  details &gt; Submit&rdquo;</b></p><p><b> </b></p>\\b|\\b<p>Kindly restrict your queries to  the session under which you are posting the query. Queries other than those  related to the particular session and/or subject will not be answered in this  section. For all academic administrative and other queries related to support  please approach <a><b>NGASCE@nmims.edu</b></a></p><p>Regards,</p><p>NGASCE</p><p> </p>\\b|\\bIT will be uploaded soon.\\b|\\bPlease connect with your academic coordinator\\b|\\bThis portal is only for subject related query\\b|\\b<p> </p><p><b>Kindly restrict  your queries to the session under which you are posting the query. </b></p><p><b>Queries other  than those related to the particular session and/or subject will not be  answered in this section.</b></p><p><b>For all  academic administrative and other queries related to support please approach </b><a><b>NGASCE@nmims.edu</b></a></p>\\b|\\b<p><b>Kindly restrict your queries to the session under which you are posting the query.</b></p><p><b>Queries other than those related to the particular session and/or subject will not be answered in this section.</b></p><p><b>For all academic administrative and other queries related to support please approach&nbsp;NGASCE@nmims.edu</b></p>\\b|\\bKindly restrict your queries to the session under which you are    posting the query.\n",
    " \n",
    "Queries other than those related to the particular session and/or subject will not be answered in this section.\n",
    "\n",
    "For all academic administrative and other queries related to support please do follow the below given steps;\n",
    "\n",
    "Click on the tab, Student Support > Connect With Us > Raise a Ticket {My Tickets} > Raise a Ticket > fill in your details > Submit\\b|\\bKindly restrict your queries to the session under which you are posting the query. Queries other than those related to the particular session and/or subject will not be answered in this section. For all academic administrative and other queries related to support please approach NGASCE@nmims.edu\n",
    "\n",
    "Regards\\b|\\bKindly write to ngasce@nmims.edu\\b|\\bPlease contact the course coordinator.\\b|\\bPlease get in touch with NGASCE@nmims.edu\\b|\\bDear Student,\n",
    "Kindly connect with your academic coordinator for such queries. \n",
    "Regards\\b|\\bDear Student,\n",
    "Kindly restrict your queries to the session under which you are posting the query. Queries other than those related to the particular session and/or subject will not be answered in this section. For all academic administrative and other queries related to support please approach NGASCE@nmims.edu\n",
    "\n",
    "Regards,\\b|\\bkindly connect to support team\\b|\\bKindly post this query to exam team\\b|\\bKindly restrict your queries to the session under which you are posting the query. Queries other than those related to the particular session and/or subject will not be answered in this section. For all academic administrative and other queries related to support please approach NGASCE@nmims.edu\n",
    "\n",
    "Regards,\n",
    "\n",
    "NGASCE\\b|\\bPlease post your administrative related queries as per the details below.\n",
    "\n",
    "Write to us at NGASCE@nmims.edu\n",
    "You can also call us between 9 AM and 7 PM, Monday to Saturday, on 1800-1025-136.\\b|\\bpls get in touch with NGASCE.\\b|\\bThis portal is to be used only for asking subject related queries\\b|\\b&nbsp;please approach NGASCE@nmims.edu\\b|\\b<p>Kindly restrict your queries to  the session under which you are posting the query. Queries other than those  related to the particular session and/or subject will not be answered in this  section. For all academic administrative and other queries related to support  please approach <a><b>NGASCE@nmims.edu</b></a></p><p>Regards,</p>NGASCE\\b''')\n",
    "\n",
    "for index,row in df.iterrows():\n",
    "    if len(pattern.findall(str(row['answer'])))!=0:\n",
    "        df.loc[index,\"queryType\"]='technical'"
   ]
  },
  {
   "cell_type": "code",
   "execution_count": 12,
   "id": "9049c116",
   "metadata": {},
   "outputs": [
    {
     "data": {
      "text/plain": [
       "non-technical    57397\n",
       "technical         5909\n",
       "Name: queryType, dtype: int64"
      ]
     },
     "execution_count": 12,
     "metadata": {},
     "output_type": "execute_result"
    }
   ],
   "source": [
    "df['queryType'].value_counts()"
   ]
  },
  {
   "cell_type": "code",
   "execution_count": null,
   "id": "2ccc1802",
   "metadata": {},
   "outputs": [],
   "source": [
    "#words_for_tech_query = ['Kindly restrict','ngasce@nimms.edu','NGASCE@nmims.edu','student support team','NGASCE Team','co- ordinator','coordinator','portal','examination department','post academic related query','help desk','1800-1025-136','technical','escalated','admin']\n",
    "\n",
    "# a=''\n",
    "# for i in words_for_tech_query:\n",
    "#     print('\\\\b'+i+'\\\\b|',end='')\n",
    "\n",
    "\n",
    "# to_clean = pd.read_csv(r'C:\\Users\\Pramod.gunaware.EXT\\Downloads\\clean.csv')\n",
    "# for i in to_clean['answer']:\n",
    "# #     print(\"'''\"+i+\"''',\")\n",
    "#     print('\\\\b'+i+'\\\\b|',end='')"
   ]
  },
  {
   "cell_type": "code",
   "execution_count": 13,
   "id": "6b944b36",
   "metadata": {},
   "outputs": [],
   "source": [
    "# no need of an answeer from here\n",
    "df=df[['query','queryType']]"
   ]
  },
  {
   "cell_type": "code",
   "execution_count": 14,
   "id": "1d7b3151",
   "metadata": {},
   "outputs": [],
   "source": [
    "query_df = df"
   ]
  },
  {
   "cell_type": "code",
   "execution_count": 15,
   "id": "456236a0",
   "metadata": {},
   "outputs": [],
   "source": [
    "query_df['query']=query_df['query'].str.lower()\n",
    "query_df['queryType']=query_df['queryType'].str.lower()"
   ]
  },
  {
   "cell_type": "code",
   "execution_count": null,
   "id": "dbf1bcd7",
   "metadata": {},
   "outputs": [],
   "source": [
    "dict_={\"abt\" : \"about\",  \n",
    "\"acc\" : \"acount\" ,\n",
    "\"aka\" : \"also known as\",\n",
    "\"asap\" : \"as soon as possible\",\n",
    "\"b4\" : \"before\",\n",
    "\"btw\" : \"by the way\",\n",
    "\"ctn\" : \"cant talk now\",\n",
    "\"cu\" : \"see you\",\n",
    "\"cua\" : \"see you around\",\n",
    "\"cul\" : \"see you later\",\n",
    "\"cya\" : \"see ya\",\n",
    "\"da\" : \"the\",\n",
    "\"dnt\" : \"Dont\",\n",
    "\"ema\" : \"Email address\",\n",
    "\"eta\"  : \"Estimated time of arrival\",\n",
    "\"ez\" : \"Easy\",\n",
    "\"faq\" : \"Frequently Asked Questions\",\n",
    "\"fb\" : \"Facebook\",\n",
    "\"fyi\" : \"For your information\",\n",
    "\"gud\" : \"Good\",\n",
    "\"hv\" : \"Have\",\n",
    "\"hw\" : \"Homework\",\n",
    "\"idk\" : \"I dont know\",\n",
    "\"im\" : \"i am\",\n",
    "\"msg\" : \"Message\",\n",
    "\"n/a\" : \"Not available or not applicable\",\n",
    "\"nvr\" : \"Never\",\n",
    "\"omg\" : \"Oh my God\",\n",
    "\"omw\" : \"On my way\",\n",
    "\"pls\" : \"Please\",\n",
    "\"plz\" : \"Please\",\n",
    "\"pov\" : \"Point of view\",\n",
    "\"ppl\" : \"People\",\n",
    "\"prolly\" : \"Probably\",\n",
    "\"pwned\" : \"Owned, as in conquered or defeated\",\n",
    "\"sec\" : \"Second\",\n",
    "\"sms\" : \"Short Message Service\",\n",
    "\"sry\" : \"Sorry\",\n",
    "\"tbh\" : \"To be honest\",\n",
    "\"thanq\" : \"Thank you\",\n",
    "\"thx\" : \"Thanks\",\n",
    "\"tweet\" : \"Twitter post\",\n",
    "\"txt\" : \"Text\",\n",
    "\"ty\" : \"Thank you\",\n",
    "\"u\" : \"You\",\n",
    "\"ur\" : \"Your\",\n",
    "\"w8\" : \"Wait\",\n",
    "\"wrk\" : \"Work\",\n",
    "\"yr\" : \"year\",\n",
    "\"24/7\" : \"seven days a week\"}\n",
    "\n",
    "\n",
    "\n",
    "def slang_convert(text):\n",
    "    new_text=[]\n",
    "    for word in text.split():\n",
    "        if word.lower() in dict_:\n",
    "            new_text.append(dict_[word.lower()].lower())\n",
    "        else:\n",
    "            new_text.append(word)\n",
    "    return \" \".join(new_text)\n",
    "\n",
    "query_df[\"query\"]=query_df[\"query\"].apply(slang_convert)"
   ]
  },
  {
   "cell_type": "code",
   "execution_count": null,
   "id": "b772031c",
   "metadata": {},
   "outputs": [],
   "source": [
    "#remove punctuation\n",
    "import string\n",
    "def remove_punc(txt):\n",
    "    for i in string.punctuation:\n",
    "        txt=txt.replace(i,'')\n",
    "    return txt\n",
    "\n",
    "query_df['query_clean']=query_df['query'].apply(remove_punc)"
   ]
  },
  {
   "cell_type": "code",
   "execution_count": null,
   "id": "1465a1c3",
   "metadata": {},
   "outputs": [],
   "source": [
    "def preprocessing(query):\n",
    "    query = str(query)\n",
    "    # removes query with 2 or less words\n",
    "    if len(query.split(' ')) <=3:\n",
    "        del(query)\n",
    "        pass\n",
    "    else:\n",
    "        query=query.lower()\n",
    "        query = slang_convert(query)\n",
    "        query = remove_punc(query)\n",
    "        query = remove_emoji(query)"
   ]
  },
  {
   "cell_type": "code",
   "execution_count": null,
   "id": "04962750",
   "metadata": {},
   "outputs": [],
   "source": [
    "# remove emojis\n",
    "import emoji\n",
    "def remove_emoji(text):\n",
    "    return(emoji.demojize(text).replace(':',''))\n",
    "\n",
    "query_df['query_clean']=query_df['query_clean'].apply(remove_emoji)"
   ]
  },
  {
   "cell_type": "code",
   "execution_count": null,
   "id": "3ade1e84",
   "metadata": {},
   "outputs": [],
   "source": [
    "import gensim\n",
    "from nltk import sent_tokenize\n",
    "#from gensim.utils import simple_preprocess\n",
    "from nltk import word_tokenize"
   ]
  },
  {
   "cell_type": "code",
   "execution_count": null,
   "id": "02464517",
   "metadata": {},
   "outputs": [],
   "source": [
    "corpus=[]\n",
    "for doc in query_df['query_clean']:\n",
    "    raw_sent = sent_tokenize(doc)\n",
    "    for sent in raw_sent:\n",
    "        corpus.append(word_tokenize(sent))"
   ]
  },
  {
   "cell_type": "code",
   "execution_count": null,
   "id": "e342b080",
   "metadata": {},
   "outputs": [],
   "source": [
    "model = gensim.models.Word2Vec(window=10,min_count=2)"
   ]
  },
  {
   "cell_type": "code",
   "execution_count": null,
   "id": "77da02b1",
   "metadata": {},
   "outputs": [],
   "source": [
    "model.build_vocab(corpus)"
   ]
  },
  {
   "cell_type": "code",
   "execution_count": null,
   "id": "4984cd4d",
   "metadata": {},
   "outputs": [],
   "source": [
    "model.train(corpus,total_examples=model.corpus_count, epochs=model.epochs)"
   ]
  },
  {
   "cell_type": "code",
   "execution_count": null,
   "id": "5bbbbdc7",
   "metadata": {},
   "outputs": [],
   "source": [
    "\n",
    "pickle.dump(model,open('ngasce_word2vecV2.pkl','wb'))"
   ]
  },
  {
   "cell_type": "code",
   "execution_count": null,
   "id": "27b02f8d",
   "metadata": {},
   "outputs": [],
   "source": [
    "model = pickle.load(open('ngasce_word2vecV2.pkl','rb'))"
   ]
  },
  {
   "cell_type": "code",
   "execution_count": null,
   "id": "f48f1ad6",
   "metadata": {},
   "outputs": [],
   "source": [
    "model.wv.most_similar('session')"
   ]
  },
  {
   "cell_type": "code",
   "execution_count": null,
   "id": "97c454d9",
   "metadata": {},
   "outputs": [],
   "source": [
    "def doc_vec(doc):\n",
    "    doc = [word for word in doc.split() if word in model.wv.index_to_key]\n",
    "    return np.mean(model.wv[doc], axis=0)"
   ]
  },
  {
   "cell_type": "code",
   "execution_count": null,
   "id": "e7edc6d5",
   "metadata": {},
   "outputs": [],
   "source": [
    "query_df"
   ]
  },
  {
   "cell_type": "code",
   "execution_count": null,
   "id": "96d8c38d",
   "metadata": {},
   "outputs": [],
   "source": [
    "y  # target"
   ]
  },
  {
   "cell_type": "code",
   "execution_count": null,
   "id": "0ae2e339",
   "metadata": {},
   "outputs": [],
   "source": [
    "x   # input"
   ]
  },
  {
   "cell_type": "code",
   "execution_count": null,
   "id": "8768a2a2",
   "metadata": {},
   "outputs": [],
   "source": [
    "from tqdm import tqdm\n",
    "\n",
    "x=[]\n",
    "for doc in tqdm(query_df['query_clean'].values):\n",
    "    x.append(doc_vec(doc))"
   ]
  },
  {
   "cell_type": "code",
   "execution_count": null,
   "id": "8c36fa73",
   "metadata": {},
   "outputs": [],
   "source": [
    "x = np.array(x)"
   ]
  },
  {
   "cell_type": "code",
   "execution_count": null,
   "id": "3f47c575",
   "metadata": {},
   "outputs": [],
   "source": [
    "x"
   ]
  },
  {
   "cell_type": "code",
   "execution_count": null,
   "id": "9ba2b0a5",
   "metadata": {},
   "outputs": [],
   "source": [
    "from sklearn.preprocessing import LabelEncoder\n",
    "encoder = LabelEncoder()"
   ]
  },
  {
   "cell_type": "code",
   "execution_count": null,
   "id": "ec13a536",
   "metadata": {},
   "outputs": [],
   "source": [
    "y=encoder.fit_transform(query_df['queryType'])"
   ]
  },
  {
   "cell_type": "code",
   "execution_count": null,
   "id": "134e70db",
   "metadata": {},
   "outputs": [],
   "source": [
    "from sklearn.model_selection import train_test_split\n",
    "\n",
    "x_train, x_test, y_train, y_test = train_test_split(x,y,test_size=0.2,random_state=1)"
   ]
  },
  {
   "cell_type": "code",
   "execution_count": null,
   "id": "b47b0dd4",
   "metadata": {},
   "outputs": [],
   "source": [
    "x_train = np.array(x_train)"
   ]
  },
  {
   "cell_type": "code",
   "execution_count": null,
   "id": "dd664682",
   "metadata": {},
   "outputs": [],
   "source": [
    "from sklearn.ensemble import RandomForestClassifier\n",
    "from sklearn.metrics import accuracy_score"
   ]
  },
  {
   "cell_type": "code",
   "execution_count": null,
   "id": "4d76bafe",
   "metadata": {},
   "outputs": [],
   "source": [
    "rf =RandomForestClassifier()"
   ]
  },
  {
   "cell_type": "code",
   "execution_count": null,
   "id": "8c08d23a",
   "metadata": {},
   "outputs": [],
   "source": [
    "rf.fit(np.array(x),y)"
   ]
  },
  {
   "cell_type": "code",
   "execution_count": null,
   "id": "68565139",
   "metadata": {},
   "outputs": [],
   "source": [
    "y_pred=(rf.predict(x_test))"
   ]
  },
  {
   "cell_type": "code",
   "execution_count": null,
   "id": "54e893d8",
   "metadata": {},
   "outputs": [],
   "source": [
    "accuracy_score(y_test,y_pred)"
   ]
  },
  {
   "cell_type": "code",
   "execution_count": null,
   "id": "d1283640",
   "metadata": {},
   "outputs": [],
   "source": []
  },
  {
   "cell_type": "code",
   "execution_count": null,
   "id": "0e6e4a5a",
   "metadata": {},
   "outputs": [],
   "source": [
    "query_df"
   ]
  },
  {
   "cell_type": "code",
   "execution_count": null,
   "id": "17f475c0",
   "metadata": {},
   "outputs": [],
   "source": [
    "y"
   ]
  },
  {
   "cell_type": "code",
   "execution_count": null,
   "id": "e5fc72df",
   "metadata": {},
   "outputs": [],
   "source": [
    "a=np.array((doc_vec('''17th session not clear at the end''')))\n",
    "\n",
    "rf.predict(a.reshape(1, -1))"
   ]
  },
  {
   "cell_type": "code",
   "execution_count": null,
   "id": "1baa6ce2",
   "metadata": {},
   "outputs": [],
   "source": [
    "query_df[query_df['query']=='I wanted to ask query regarding Exam registration- what is the meaning of first come first serve basis registration. Is there a possibility someone will not get to sit in exam even after completing 6 months of learning?'.lower()]"
   ]
  },
  {
   "cell_type": "code",
   "execution_count": null,
   "id": "14f2a9f5",
   "metadata": {},
   "outputs": [],
   "source": [
    "print(gensim.__version__)"
   ]
  },
  {
   "cell_type": "code",
   "execution_count": null,
   "id": "efb3f8a7",
   "metadata": {},
   "outputs": [],
   "source": [
    "pickle.dump(model,open('ngasce_word2vec.pkl','wb'))\n",
    "pickle.dump(rf,open('rf_classifier.pkl','wb'))"
   ]
  },
  {
   "cell_type": "code",
   "execution_count": null,
   "id": "99a93eca",
   "metadata": {},
   "outputs": [],
   "source": [
    "df[df['parentid']!='xyz']"
   ]
  }
 ],
 "metadata": {
  "kernelspec": {
   "display_name": "Python 3 (ipykernel)",
   "language": "python",
   "name": "python3"
  },
  "language_info": {
   "codemirror_mode": {
    "name": "ipython",
    "version": 3
   },
   "file_extension": ".py",
   "mimetype": "text/x-python",
   "name": "python",
   "nbconvert_exporter": "python",
   "pygments_lexer": "ipython3",
   "version": "3.9.12"
  }
 },
 "nbformat": 4,
 "nbformat_minor": 5
}
